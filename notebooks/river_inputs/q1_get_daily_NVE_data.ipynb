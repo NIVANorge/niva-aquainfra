{
 "cells": [
  {
   "cell_type": "code",
   "execution_count": 1,
   "id": "b99eff1a-6f5e-4359-aa63-60b4ca83c4ec",
   "metadata": {},
   "outputs": [],
   "source": [
    "import os\n",
    "import nivapy3 as nivapy\n",
    "import pandas as pd"
   ]
  },
  {
   "cell_type": "markdown",
   "id": "7b4823b4-0241-4414-b311-db7496bd8f21",
   "metadata": {},
   "source": [
    "# Download daily river discharge data from NVE\n",
    "\n",
    "Stations of interest for AquaInfra use case:\n",
    "\n",
    "* **Numedalslågen**: Holmfoss i Numedalslågen, 15.61.0, from 1970. About 15 km upstream of land-sea outflow.\n",
    "* **Drammenselva**\n",
    "    - Mjøndalen bru, 12.534.0, from 2004. Most D/S station\n",
    "    - Døvikfoss, 12.285.0, from 1912. About 25 km U/S of Mjøndalen bru, no huge tribs between the two. Just downstream of Tyrifjorden and Gravfoss Kraftverk\n",
    "* **Glomma**\n",
    "    - Solbergfoss, 2.605.0, from 1964. Just downstream of Øyeren. Was the most downstream station for a long time. Estimated rather than measured? «Data ved Solbergfoss beregnes ut fra kraftverksproduksjon og tapping i luker»\n",
    "    - Sarpsborg, 2.489.0, from 2009, Most D/S station. Not in Sildre though, only in NVE Atlas. Lets see if we can get it. Otherwise go for Solbergfoss. **Update: Not available in HydAPI, so drop for now.**"
   ]
  },
  {
   "cell_type": "markdown",
   "id": "21d73041-531d-4016-9641-ed9915138038",
   "metadata": {},
   "source": [
    "## User input"
   ]
  },
  {
   "cell_type": "code",
   "execution_count": 15,
   "id": "b9f8ad9e-7c62-4f98-8ab7-95bba2d82714",
   "metadata": {},
   "outputs": [],
   "source": [
    "# Dictionary of stations we want per river of interest\n",
    "stn_id_name_dict = {\n",
    "    \"Numedalslågen\": {\"15.61.0\": \"Holmfoss\"},\n",
    "\n",
    "    \"Drammenselva\": {\"12.534.0\": \"Mjøndalen bru\",\n",
    "                     \"12.285.0\": \"Døvikfoss\"},\n",
    "\n",
    "    \"Glomma\": {\"2.605.0\": \"Solbergfoss\",\n",
    "               \"2.489.0\": \"Sarpsborg\"}\n",
    "}\n",
    "\n",
    "# Parameters to download\n",
    "par_ids = [1001]  # Daily mean discharge\n",
    "\n",
    "# Start and end dates for download\n",
    "st_dt = \"1900-01-01\"\n",
    "end_dt = \"2024-08-28\"\n",
    "\n",
    "# Where to save data\n",
    "download_date = \"2024-08-28\"  # (for file naming)\n",
    "out_folder = r'../../data/river/discharge/raw'\n",
    "metadata_folder = r'../../data/river/discharge'"
   ]
  },
  {
   "cell_type": "markdown",
   "id": "6032a87b-42c9-4998-8cca-80449cdc3a1d",
   "metadata": {},
   "source": [
    "## Check whether stations are available in HydAPI & save metadata for stations with data"
   ]
  },
  {
   "cell_type": "code",
   "execution_count": 12,
   "id": "ab471058-e481-4406-b737-2e45881bf2d9",
   "metadata": {
    "tags": []
   },
   "outputs": [
    {
     "name": "stdout",
     "output_type": "stream",
     "text": [
      "1840 stations available in HydAPI.\n",
      "Desired stations missing from HydAPI: []\n",
      "New river & station_id dictionary:\n",
      "{'Numedalslågen': {'15.61.0': 'Holmfoss'}, 'Drammenselva': {'12.534.0': 'Mjøndalen bru', '12.285.0': 'Døvikfoss'}, 'Glomma': {'2.605.0': 'Solbergfoss'}}\n"
     ]
    }
   ],
   "source": [
    "# List all stations\n",
    "stn_df = nivapy.da.get_nve_hydapi_stations()\n",
    "print(len(stn_df), \"stations available in HydAPI.\")\n",
    "\n",
    "# Check whether desired stations are available\n",
    "station_id_li = [stn_id for river in stn_id_name_dict.values() for stn_id in river.keys()]\n",
    "missing_station_ids = []\n",
    "\n",
    "for stn_id in station_id_li:\n",
    "    # Check if the station ID is in the DataFrame's 'station_id' column\n",
    "    if stn_id not in stn_df['station_id'].values:\n",
    "        missing_station_ids.append(stn_id)\n",
    "\n",
    "print(f\"Desired stations missing from HydAPI: {missing_station_ids}\")\n",
    "\n",
    "# Drop missing stations from the dictionary of stations we want to download data for\n",
    "for river, stations in stn_id_name_dict.items():\n",
    "    for stn_id in list(stations.keys()):  # Use list() to avoid modifying the dictionary while iterating\n",
    "        if stn_id in missing_station_ids:\n",
    "            del stations[stn_id]\n",
    "\n",
    "# Drop missing stations from station_id_li\n",
    "station_id_li = [stn_id for stn_id in station_id_li if stn_id not in missing_station_ids]\n",
    "\n",
    "print(\"New river & station_id dictionary:\")\n",
    "print(stn_id_name_dict)\n",
    "\n",
    "# Extract metadata for these stations & save to csv\n",
    "select_stn_df = stn_df[stn_df['station_id'].isin(station_id_li)]\n",
    "fpath = os.path.join(metadata_folder, \"discharge_stations_metadata.csv\")\n",
    "select_stn_df.to_csv(fpath)"
   ]
  },
  {
   "cell_type": "markdown",
   "id": "21320716-4017-49dd-ba79-05d3e10c1a84",
   "metadata": {},
   "source": [
    "## Download data\n",
    "\n",
    "See here for an interpretation of the correction and quality integer values in the data: https://hydapi.nve.no/UserDocumentation/\n",
    "\n",
    "Quality types:\n",
    "* Unknown = 0\n",
    "* Uncontrolled = 1\n",
    "* PrimaryControlled = 2\n",
    "* SecondaryControlled = 3\n",
    "\n",
    "Correction type indicates whether the value has been corrected. e.g.:\n",
    "* 0: No changes\n",
    "* 1: Manual- or ice correction\n",
    "* 2: Interpolation\n",
    "* 3: Value computed with models or/and other series\n",
    "* 4: Daily mean computed with arithmetic mean. (Only used on series where we normally should use discharge curve)\n",
    "* 13: The value is calculated based on a similar station or a station close by\n",
    "* 14: The value is missing, and is only calculated based on statistical information for the data series"
   ]
  },
  {
   "cell_type": "code",
   "execution_count": 4,
   "id": "cd943799-ce63-48d3-943c-a6d38e67aa6f",
   "metadata": {
    "tags": []
   },
   "outputs": [
    {
     "name": "stdout",
     "output_type": "stream",
     "text": [
      "Downloaded & saved data for Holmfoss, 15.61.0\n",
      "Downloaded & saved data for Mjøndalen bru, 12.534.0\n",
      "Downloaded & saved data for Døvikfoss, 12.285.0\n",
      "Downloaded & saved data for Solbergfoss, 2.605.0\n"
     ]
    }
   ],
   "source": [
    "# Get daily mean discharge data\n",
    "# (resolution= 1440; other resolutions not working with HydAPI last time I checked)\n",
    "for river, station_dict in stn_id_name_dict.items():\n",
    "    for station_id, station_name in station_dict.items():\n",
    "        df = nivapy.da.query_nve_hydapi([station_id], par_ids, st_dt, end_dt, resolution=1440)\n",
    "\n",
    "        df.set_index('datetime', inplace=True)\n",
    "\n",
    "        # Save to csv\n",
    "        fname = f\"Q_daily-mean_{river}_{station_name}_{station_id}_download-{download_date}.csv\"\n",
    "        df.to_csv(os.path.join(out_folder, fname))\n",
    "        print(f\"Downloaded & saved data for {station_name}, {station_id}\")"
   ]
  },
  {
   "cell_type": "code",
   "execution_count": null,
   "id": "58257e9a-5e26-46ed-9280-91de839fbab1",
   "metadata": {},
   "outputs": [],
   "source": []
  }
 ],
 "metadata": {
  "kernelspec": {
   "display_name": "Python 3 (ipykernel)",
   "language": "python",
   "name": "python3"
  },
  "language_info": {
   "codemirror_mode": {
    "name": "ipython",
    "version": 3
   },
   "file_extension": ".py",
   "mimetype": "text/x-python",
   "name": "python",
   "nbconvert_exporter": "python",
   "pygments_lexer": "ipython3",
   "version": "3.11.6"
  }
 },
 "nbformat": 4,
 "nbformat_minor": 5
}
